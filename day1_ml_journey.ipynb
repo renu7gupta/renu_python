{
  "nbformat": 4,
  "nbformat_minor": 0,
  "metadata": {
    "colab": {
      "provenance": [],
      "include_colab_link": true
    },
    "kernelspec": {
      "name": "python3",
      "display_name": "Python 3"
    },
    "language_info": {
      "name": "python"
    }
  },
  "cells": [
    {
      "cell_type": "markdown",
      "metadata": {
        "id": "view-in-github",
        "colab_type": "text"
      },
      "source": [
        "<a href=\"https://colab.research.google.com/github/renu7gupta/renu_python/blob/main/day1_ml_journey.ipynb\" target=\"_parent\"><img src=\"https://colab.research.google.com/assets/colab-badge.svg\" alt=\"Open In Colab\"/></a>"
      ]
    },
    {
      "cell_type": "code",
      "execution_count": null,
      "metadata": {
        "colab": {
          "base_uri": "https://localhost:8080/"
        },
        "id": "HpmbKqI7jltH",
        "outputId": "0ec1bf68-5f68-4ec7-f746-ea081ec8cab5"
      },
      "outputs": [
        {
          "output_type": "stream",
          "name": "stdout",
          "text": [
            "hello world\n"
          ]
        }
      ],
      "source": [
        "print(\"hello world\")"
      ]
    },
    {
      "cell_type": "code",
      "source": [
        "# Day3\n",
        "# Creating a simple list\n",
        "\n",
        "l= [10,20.3,\"INT\",3+4j]\n",
        "print(l)\n",
        "print(type(l))"
      ],
      "metadata": {
        "colab": {
          "base_uri": "https://localhost:8080/"
        },
        "id": "VPvwxCiYSwXG",
        "outputId": "9b6d858d-8070-48de-9c2a-5283ab5f86d5"
      },
      "execution_count": null,
      "outputs": [
        {
          "output_type": "stream",
          "name": "stdout",
          "text": [
            "[10, 20.3, 'INT', (3+4j)]\n",
            "<class 'list'>\n"
          ]
        }
      ]
    },
    {
      "cell_type": "code",
      "source": [
        "print(\"Renu Gupta\")"
      ],
      "metadata": {
        "colab": {
          "base_uri": "https://localhost:8080/"
        },
        "id": "rOkOnDRZ3X_b",
        "outputId": "e715e6c4-39eb-42c9-c787-f6586390583f"
      },
      "execution_count": null,
      "outputs": [
        {
          "output_type": "stream",
          "name": "stdout",
          "text": [
            "Renu Gupta\n"
          ]
        }
      ]
    },
    {
      "cell_type": "code",
      "source": [
        "prn(\"renu\")\n"
      ],
      "metadata": {
        "id": "34ZbDQBAxLWX",
        "colab": {
          "base_uri": "https://localhost:8080/",
          "height": 141
        },
        "outputId": "5ab03cbc-2eeb-41c1-96fb-5942dfcd078e"
      },
      "execution_count": null,
      "outputs": [
        {
          "output_type": "error",
          "ename": "NameError",
          "evalue": "name 'prn' is not defined",
          "traceback": [
            "\u001b[0;31m---------------------------------------------------------------------------\u001b[0m",
            "\u001b[0;31mNameError\u001b[0m                                 Traceback (most recent call last)",
            "\u001b[0;32m<ipython-input-2-6c2171ba9d42>\u001b[0m in \u001b[0;36m<cell line: 0>\u001b[0;34m()\u001b[0m\n\u001b[0;32m----> 1\u001b[0;31m \u001b[0mprn\u001b[0m\u001b[0;34m(\u001b[0m\u001b[0;34m\"renu\"\u001b[0m\u001b[0;34m)\u001b[0m\u001b[0;34m\u001b[0m\u001b[0;34m\u001b[0m\u001b[0m\n\u001b[0m",
            "\u001b[0;31mNameError\u001b[0m: name 'prn' is not defined"
          ]
        }
      ]
    },
    {
      "cell_type": "code",
      "source": [
        "#list\n",
        "L1 = [10,20,3.14,\"NNTT DATA\", 2+3j,[100,200,300]]\n",
        "print(L1)\n",
        "print(type(L1))\n",
        "print(L1[0], L1[-2])"
      ],
      "metadata": {
        "colab": {
          "base_uri": "https://localhost:8080/"
        },
        "id": "lJ5722gWw3Qt",
        "outputId": "15d1af43-bab6-4531-b0c9-ca352942708d"
      },
      "execution_count": null,
      "outputs": [
        {
          "output_type": "stream",
          "name": "stdout",
          "text": [
            "[10, 20, 3.14, 'NNTT DATA', (2+3j), [100, 200, 300]]\n",
            "<class 'list'>\n",
            "10 (2+3j)\n"
          ]
        }
      ]
    },
    {
      "cell_type": "code",
      "source": [
        "# Type fn returns datatype class\n",
        "a = 3+4j;\n",
        "print(type(a))"
      ],
      "metadata": {
        "colab": {
          "base_uri": "https://localhost:8080/"
        },
        "id": "u1nk_n-0TLDs",
        "outputId": "d35ec754-2b62-46ed-91ce-dbe7a194c1cf"
      },
      "execution_count": null,
      "outputs": [
        {
          "output_type": "stream",
          "name": "stdout",
          "text": [
            "<class 'complex'>\n"
          ]
        }
      ]
    },
    {
      "cell_type": "code",
      "source": [
        "# isinstance\n",
        "a = 10.0\n",
        "print(isinstance(a,int))\n",
        "\n"
      ],
      "metadata": {
        "colab": {
          "base_uri": "https://localhost:8080/"
        },
        "id": "ALBj90YeTyTS",
        "outputId": "6a105eab-4b1f-4cc0-dec9-2a82830d0b18"
      },
      "execution_count": null,
      "outputs": [
        {
          "output_type": "stream",
          "name": "stdout",
          "text": [
            "False\n"
          ]
        }
      ]
    },
    {
      "cell_type": "code",
      "source": [
        "# variable annotations\n",
        "name: str = \"NTT\"\n",
        "print(name)\n",
        "print(__annotations__['name'])"
      ],
      "metadata": {
        "colab": {
          "base_uri": "https://localhost:8080/"
        },
        "id": "HXhFzmIdUX6p",
        "outputId": "0f801cf3-c266-4b38-906c-8360d1857c6c"
      },
      "execution_count": null,
      "outputs": [
        {
          "output_type": "stream",
          "name": "stdout",
          "text": [
            "NTT\n",
            "<class 'str'>\n"
          ]
        }
      ]
    },
    {
      "cell_type": "code",
      "source": [
        "aaa: int = 10\n",
        "print(aaa)\n",
        "\n",
        "\n",
        "print(__annotations__['aaa'])\n",
        "print(type(aaa))"
      ],
      "metadata": {
        "colab": {
          "base_uri": "https://localhost:8080/"
        },
        "id": "4llUCDKoVePa",
        "outputId": "fafd98c6-3387-4f64-b1de-19ae8f31631a"
      },
      "execution_count": null,
      "outputs": [
        {
          "output_type": "stream",
          "name": "stdout",
          "text": [
            "10\n",
            "<class 'int'>\n",
            "<class 'int'>\n"
          ]
        }
      ]
    },
    {
      "cell_type": "code",
      "source": [
        "aaa: int = 10\n",
        "print(aaa)\n",
        "\n",
        "\n",
        "print(__annotations__['aaa'])\n",
        "print(type(aaa))\n"
      ],
      "metadata": {
        "colab": {
          "base_uri": "https://localhost:8080/"
        },
        "id": "XHZFCg2sXdr6",
        "outputId": "19781f59-08b7-450e-afe0-2cdddcb811ca"
      },
      "execution_count": null,
      "outputs": [
        {
          "output_type": "stream",
          "name": "stdout",
          "text": [
            "10\n",
            "<class 'int'>\n",
            "<class 'int'>\n"
          ]
        }
      ]
    },
    {
      "cell_type": "code",
      "source": [
        "#slicing in list\n",
        "L1 = [10,20,3.14,\"NNTT DATA\", 2+3j,[100,200,300]]\n",
        "print(L1[0:5:3])\n",
        "print(L1[::])\n",
        "print(L1[::-1])"
      ],
      "metadata": {
        "colab": {
          "base_uri": "https://localhost:8080/"
        },
        "id": "i49bI0uWytzV",
        "outputId": "bc7f929f-3aa8-4065-c032-1a4dd2abd409"
      },
      "execution_count": null,
      "outputs": [
        {
          "output_type": "stream",
          "name": "stdout",
          "text": [
            "[10, 'NNTT DATA']\n",
            "[10, 20, 3.14, 'NNTT DATA', (2+3j), [100, 200, 300]]\n",
            "[[100, 200, 300], (2+3j), 'NNTT DATA', 3.14, 20, 10]\n"
          ]
        }
      ]
    },
    {
      "cell_type": "code",
      "source": [
        "#concatenation of list\n",
        "l1 = [10,20,30]\n",
        "l2 = [50,60,70]\n",
        "l3 = l1+l2\n",
        "print(id(l1))\n",
        "print(id(l2))\n",
        "print(id(l3))\n",
        "print(l3)"
      ],
      "metadata": {
        "colab": {
          "base_uri": "https://localhost:8080/"
        },
        "id": "umsb9c86z-2w",
        "outputId": "b8618017-1973-4887-dd0e-626127c7c6e3"
      },
      "execution_count": null,
      "outputs": [
        {
          "output_type": "stream",
          "name": "stdout",
          "text": [
            "134944583688512\n",
            "134944583941504\n",
            "134944583931392\n",
            "[10, 20, 30, 50, 60, 70]\n"
          ]
        }
      ]
    },
    {
      "cell_type": "code",
      "source": [
        "#multiplication of list\n",
        "l1 = [10,20,30]\n",
        "l3 = l1*2\n",
        "print(l3)"
      ],
      "metadata": {
        "colab": {
          "base_uri": "https://localhost:8080/"
        },
        "id": "hC0hcrHe1Bno",
        "outputId": "df7de719-cc32-418b-81ef-fc9036060b75"
      },
      "execution_count": null,
      "outputs": [
        {
          "output_type": "stream",
          "name": "stdout",
          "text": [
            "[10, 20, 30, 10, 20, 30]\n"
          ]
        }
      ]
    },
    {
      "cell_type": "code",
      "source": [
        "# iteration through list\n",
        "l1 = [10,20,30,40,50]\n",
        "for i in l1:\n",
        "  print (i+4)"
      ],
      "metadata": {
        "colab": {
          "base_uri": "https://localhost:8080/"
        },
        "id": "o0fq3tF00Wvg",
        "outputId": "9468b172-3d08-42d8-ff93-1ac03deb9cf9"
      },
      "execution_count": null,
      "outputs": [
        {
          "output_type": "stream",
          "name": "stdout",
          "text": [
            "14\n",
            "24\n",
            "34\n",
            "44\n",
            "54\n"
          ]
        }
      ]
    },
    {
      "cell_type": "code",
      "source": [
        "#Mmbership operator in list\n",
        "print(10 in [10,20,30,40])\n",
        "print(50 in [10,20,30,40])\n",
        "print(50 not in [10,20,30,40])\n"
      ],
      "metadata": {
        "colab": {
          "base_uri": "https://localhost:8080/"
        },
        "id": "pKPAURO-14nb",
        "outputId": "3729d33a-e7a4-4c27-ef01-8619db605545"
      },
      "execution_count": null,
      "outputs": [
        {
          "output_type": "stream",
          "name": "stdout",
          "text": [
            "True\n",
            "False\n",
            "True\n"
          ]
        }
      ]
    },
    {
      "cell_type": "code",
      "source": [
        "#deletion of list\n",
        "l1 = [10,20,30]\n",
        "print (l1)\n",
        "del(l1)\n",
        "print(l1)"
      ],
      "metadata": {
        "colab": {
          "base_uri": "https://localhost:8080/",
          "height": 193
        },
        "id": "0G5hqBhp2lk8",
        "outputId": "60ee3a42-5b7a-4d58-9941-9dc615771208"
      },
      "execution_count": null,
      "outputs": [
        {
          "output_type": "stream",
          "name": "stdout",
          "text": [
            "[10, 20, 30]\n"
          ]
        },
        {
          "output_type": "error",
          "ename": "NameError",
          "evalue": "name 'l1' is not defined",
          "traceback": [
            "\u001b[0;31m---------------------------------------------------------------------------\u001b[0m",
            "\u001b[0;31mNameError\u001b[0m                                 Traceback (most recent call last)",
            "\u001b[0;32m<ipython-input-23-f6d546744e1c>\u001b[0m in \u001b[0;36m<cell line: 0>\u001b[0;34m()\u001b[0m\n\u001b[1;32m      3\u001b[0m \u001b[0mprint\u001b[0m \u001b[0;34m(\u001b[0m\u001b[0ml1\u001b[0m\u001b[0;34m)\u001b[0m\u001b[0;34m\u001b[0m\u001b[0;34m\u001b[0m\u001b[0m\n\u001b[1;32m      4\u001b[0m \u001b[0;32mdel\u001b[0m\u001b[0;34m(\u001b[0m\u001b[0ml1\u001b[0m\u001b[0;34m)\u001b[0m\u001b[0;34m\u001b[0m\u001b[0;34m\u001b[0m\u001b[0m\n\u001b[0;32m----> 5\u001b[0;31m \u001b[0mprint\u001b[0m\u001b[0;34m(\u001b[0m\u001b[0ml1\u001b[0m\u001b[0;34m)\u001b[0m\u001b[0;34m\u001b[0m\u001b[0;34m\u001b[0m\u001b[0m\n\u001b[0m",
            "\u001b[0;31mNameError\u001b[0m: name 'l1' is not defined"
          ]
        }
      ]
    },
    {
      "cell_type": "code",
      "source": [
        "#Inbuilt functions\n",
        "#max function\n",
        "l1 = [220,4573,100,20,30]\n",
        "print (max(l1))\n",
        "l2 = [\"aaa\",\"bbbbbbb\",\"zzz\"]\n",
        "print (max(l2))\n",
        "l3 = [10,20,'NTT DAT']\n",
        "print (max(l3))"
      ],
      "metadata": {
        "colab": {
          "base_uri": "https://localhost:8080/",
          "height": 211
        },
        "id": "6meTcFnc3xi8",
        "outputId": "4652c8b9-7460-42b4-c93c-fe00f7f7de38"
      },
      "execution_count": null,
      "outputs": [
        {
          "output_type": "stream",
          "name": "stdout",
          "text": [
            "4573\n",
            "zzz\n"
          ]
        },
        {
          "output_type": "error",
          "ename": "TypeError",
          "evalue": "'>' not supported between instances of 'str' and 'int'",
          "traceback": [
            "\u001b[0;31m---------------------------------------------------------------------------\u001b[0m",
            "\u001b[0;31mTypeError\u001b[0m                                 Traceback (most recent call last)",
            "\u001b[0;32m<ipython-input-30-d6a7850193b2>\u001b[0m in \u001b[0;36m<cell line: 0>\u001b[0;34m()\u001b[0m\n\u001b[1;32m      6\u001b[0m \u001b[0mprint\u001b[0m \u001b[0;34m(\u001b[0m\u001b[0mmax\u001b[0m\u001b[0;34m(\u001b[0m\u001b[0ml2\u001b[0m\u001b[0;34m)\u001b[0m\u001b[0;34m)\u001b[0m\u001b[0;34m\u001b[0m\u001b[0;34m\u001b[0m\u001b[0m\n\u001b[1;32m      7\u001b[0m \u001b[0ml3\u001b[0m \u001b[0;34m=\u001b[0m \u001b[0;34m[\u001b[0m\u001b[0;36m10\u001b[0m\u001b[0;34m,\u001b[0m\u001b[0;36m20\u001b[0m\u001b[0;34m,\u001b[0m\u001b[0;34m'NTT DAT'\u001b[0m\u001b[0;34m]\u001b[0m\u001b[0;34m\u001b[0m\u001b[0;34m\u001b[0m\u001b[0m\n\u001b[0;32m----> 8\u001b[0;31m \u001b[0mprint\u001b[0m \u001b[0;34m(\u001b[0m\u001b[0mmax\u001b[0m\u001b[0;34m(\u001b[0m\u001b[0ml3\u001b[0m\u001b[0;34m)\u001b[0m\u001b[0;34m)\u001b[0m\u001b[0;34m\u001b[0m\u001b[0;34m\u001b[0m\u001b[0m\n\u001b[0m",
            "\u001b[0;31mTypeError\u001b[0m: '>' not supported between instances of 'str' and 'int'"
          ]
        }
      ]
    },
    {
      "cell_type": "code",
      "source": [],
      "metadata": {
        "id": "7NZG8ZLYFu1L"
      },
      "execution_count": null,
      "outputs": []
    },
    {
      "cell_type": "code",
      "source": [
        "#Inbuilt functions\n",
        "#max function\n",
        "\n",
        "l2 = [\"aaaaaaaaaa\",\"bbbbbbb\",\"zzz\"]\n",
        "print(max(l2, key= len))"
      ],
      "metadata": {
        "colab": {
          "base_uri": "https://localhost:8080/"
        },
        "id": "YrcWHmHE4wU0",
        "outputId": "5b21173c-3103-4ee9-8b1e-092e49316ca3"
      },
      "execution_count": null,
      "outputs": [
        {
          "output_type": "stream",
          "name": "stdout",
          "text": [
            "aaaaaaaaaa\n"
          ]
        }
      ]
    },
    {
      "cell_type": "code",
      "source": [
        "#Inbuilt functions\n",
        "#max function\n",
        "\n",
        "l2 = [\"aaaaaaaaaa\",\"bbbbbbb\",\"zzz\"]\n",
        "print(max(l2, key= len))\n",
        "l5 = []\n",
        "print(max(l5,default=0))"
      ],
      "metadata": {
        "colab": {
          "base_uri": "https://localhost:8080/"
        },
        "id": "UkUAUEFX5b8b",
        "outputId": "b4749fbb-d667-473c-864c-e21b03a29dae"
      },
      "execution_count": null,
      "outputs": [
        {
          "output_type": "stream",
          "name": "stdout",
          "text": [
            "aaaaaaaaaa\n",
            "0\n"
          ]
        }
      ]
    },
    {
      "cell_type": "code",
      "source": [
        "#append of list\n",
        "l1 = [10,20,30]\n",
        "l2 = [2,3,4]\n",
        "print (l1)\n",
        "l1.append(50)\n",
        "l1.append(60)\n",
        "l1.append(70)\n",
        "l1.append(l2)\n",
        "print (l1)"
      ],
      "metadata": {
        "colab": {
          "base_uri": "https://localhost:8080/"
        },
        "id": "I4DddAS66ueN",
        "outputId": "8aed7b6c-d6e4-4f80-c082-056b9bbac0b9"
      },
      "execution_count": null,
      "outputs": [
        {
          "output_type": "stream",
          "name": "stdout",
          "text": [
            "[10, 20, 30]\n",
            "[10, 20, 30, 50, 60, 70, [2, 3, 4]]\n"
          ]
        }
      ]
    },
    {
      "cell_type": "code",
      "source": [
        "l1=[10]\n",
        "i=1\n",
        "for i in range(6):\n",
        "  l=int(input(\"enter\"))\n",
        "  l1.append(l)\n",
        "\n",
        "\n",
        "print(l1)"
      ],
      "metadata": {
        "colab": {
          "base_uri": "https://localhost:8080/"
        },
        "id": "ePHmSywg7o52",
        "outputId": "fd51e546-c6f3-4d46-e052-9ee7363d2b4b"
      },
      "execution_count": null,
      "outputs": [
        {
          "output_type": "stream",
          "name": "stdout",
          "text": [
            "enter1\n",
            "enter2\n",
            "enter3\n",
            "enter4\n",
            "enter2\n",
            "enter1\n",
            "[10, 1, 2, 3, 4, 2, 1]\n"
          ]
        }
      ]
    },
    {
      "cell_type": "code",
      "source": [
        "#append method\n",
        "l1 = [10,20,30]\n",
        "l2= [40,50,60]\n",
        "l1.append(l2)\n",
        "print(l1)"
      ],
      "metadata": {
        "colab": {
          "base_uri": "https://localhost:8080/"
        },
        "id": "rm02R4zl9jxm",
        "outputId": "acb4560b-fd48-4e5b-b772-f0054eebfc63"
      },
      "execution_count": null,
      "outputs": [
        {
          "output_type": "stream",
          "name": "stdout",
          "text": [
            "[10, 20, 30, [40, 50, 60]]\n"
          ]
        }
      ]
    },
    {
      "cell_type": "code",
      "source": [
        "#extend method\n",
        "l1 = [10,20,30]\n",
        "l2= [40,50,60]\n",
        "l1.extend(l2)\n",
        "print(l1)"
      ],
      "metadata": {
        "colab": {
          "base_uri": "https://localhost:8080/"
        },
        "id": "0Qvu3RAK97jG",
        "outputId": "32d36981-a7e2-40cc-8aa8-0097fa275fae"
      },
      "execution_count": null,
      "outputs": [
        {
          "output_type": "stream",
          "name": "stdout",
          "text": [
            "[10, 20, 30, 40, 50, 60]\n"
          ]
        }
      ]
    },
    {
      "cell_type": "code",
      "source": [],
      "metadata": {
        "id": "vT9wIfnE_MKH"
      },
      "execution_count": null,
      "outputs": []
    },
    {
      "cell_type": "code",
      "source": [
        "#insert method\n",
        "l1 = [10,20,30]\n",
        "l2= [40,50,60]\n",
        "l1.insert(1,50)\n",
        "print(l1)"
      ],
      "metadata": {
        "colab": {
          "base_uri": "https://localhost:8080/"
        },
        "id": "dn9Fls2I-Em2",
        "outputId": "153bb0b8-38dc-4fed-c90e-1b99ec07312f"
      },
      "execution_count": null,
      "outputs": [
        {
          "output_type": "stream",
          "name": "stdout",
          "text": [
            "[10, 50, 20, 30]\n"
          ]
        }
      ]
    },
    {
      "cell_type": "code",
      "source": [
        "#remove method\n",
        "l1 = [10,20,30,40,30,50]\n",
        "l1.remove(30)\n",
        "print(l1)"
      ],
      "metadata": {
        "colab": {
          "base_uri": "https://localhost:8080/"
        },
        "id": "BwWsgwc3_NTG",
        "outputId": "e62f595a-75ed-4a7e-f8ba-e1d33a1a24e3"
      },
      "execution_count": null,
      "outputs": [
        {
          "output_type": "stream",
          "name": "stdout",
          "text": [
            "[10, 20, 40, 30, 50]\n"
          ]
        }
      ]
    },
    {
      "cell_type": "code",
      "source": [
        "#pop method\n",
        "l1 = [10,20,30,40,30,50]\n",
        "num = l1.pop()\n",
        "print(l1)\n",
        "print(num)"
      ],
      "metadata": {
        "colab": {
          "base_uri": "https://localhost:8080/"
        },
        "id": "EK3rMFws_q7c",
        "outputId": "81f569fe-17f2-4791-9805-892269021ca4"
      },
      "execution_count": null,
      "outputs": [
        {
          "output_type": "stream",
          "name": "stdout",
          "text": [
            "[10, 20, 30, 40, 30]\n",
            "50\n"
          ]
        }
      ]
    },
    {
      "cell_type": "code",
      "source": [
        "#pop method\n",
        "l1 = [10,20,30,40,30,50]\n",
        "num = l1.pop(3)\n",
        "print(l1)\n",
        "print(num)"
      ],
      "metadata": {
        "colab": {
          "base_uri": "https://localhost:8080/"
        },
        "id": "uHKAmf7A_8p0",
        "outputId": "889b126a-155b-4ff1-94ad-7697de90f668"
      },
      "execution_count": null,
      "outputs": [
        {
          "output_type": "stream",
          "name": "stdout",
          "text": [
            "[10, 20, 30, 30, 50]\n",
            "40\n"
          ]
        }
      ]
    },
    {
      "cell_type": "code",
      "source": [
        "# my program\n",
        "l1 = [10,20,10,30,20,45]\n",
        "num = l1.pop(2)\n",
        "num1 = l1.pop(3)\n",
        "print(l1)"
      ],
      "metadata": {
        "colab": {
          "base_uri": "https://localhost:8080/"
        },
        "id": "civUHvCuCOEH",
        "outputId": "2ff9e71a-d434-4456-c1e2-09848149e0b0"
      },
      "execution_count": null,
      "outputs": [
        {
          "output_type": "stream",
          "name": "stdout",
          "text": [
            "[10, 20, 30, 45]\n"
          ]
        }
      ]
    },
    {
      "cell_type": "code",
      "source": [
        "#find duplicate\n",
        "l1 = [10,20,10,30,20,45]\n",
        "l2= []\n",
        "for i in l1:\n",
        "  if i not in l2:\n",
        "    l2.append(i)\n",
        "print(l2)"
      ],
      "metadata": {
        "colab": {
          "base_uri": "https://localhost:8080/"
        },
        "id": "HKoCyfojDYjp",
        "outputId": "69f4f1c3-deb6-4ec2-ae3a-9a4f9469f5e2"
      },
      "execution_count": null,
      "outputs": [
        {
          "output_type": "stream",
          "name": "stdout",
          "text": [
            "[10, 20, 30, 45]\n"
          ]
        }
      ]
    },
    {
      "cell_type": "code",
      "source": [
        "#find 2nd larget element\n",
        "l1=[10,20,30,40,50]\n",
        "element = max(l1)\n",
        "l1.remove(element)\n",
        "print(max(l1))"
      ],
      "metadata": {
        "colab": {
          "base_uri": "https://localhost:8080/"
        },
        "id": "NbCL0-Y9FxV7",
        "outputId": "8deac511-3219-4747-e5ce-98436f14cd28"
      },
      "execution_count": null,
      "outputs": [
        {
          "output_type": "stream",
          "name": "stdout",
          "text": [
            "40\n"
          ]
        }
      ]
    }
  ]
}