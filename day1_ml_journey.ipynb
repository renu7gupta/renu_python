{
  "nbformat": 4,
  "nbformat_minor": 0,
  "metadata": {
    "colab": {
      "provenance": [],
      "include_colab_link": true
    },
    "kernelspec": {
      "name": "python3",
      "display_name": "Python 3"
    },
    "language_info": {
      "name": "python"
    }
  },
  "cells": [
    {
      "cell_type": "markdown",
      "metadata": {
        "id": "view-in-github",
        "colab_type": "text"
      },
      "source": [
        "<a href=\"https://colab.research.google.com/github/renu7gupta/renu_python/blob/main/day1_ml_journey.ipynb\" target=\"_parent\"><img src=\"https://colab.research.google.com/assets/colab-badge.svg\" alt=\"Open In Colab\"/></a>"
      ]
    },
    {
      "cell_type": "code",
      "execution_count": null,
      "metadata": {
        "colab": {
          "base_uri": "https://localhost:8080/"
        },
        "id": "HpmbKqI7jltH",
        "outputId": "0ec1bf68-5f68-4ec7-f746-ea081ec8cab5"
      },
      "outputs": [
        {
          "output_type": "stream",
          "name": "stdout",
          "text": [
            "hello world\n"
          ]
        }
      ],
      "source": [
        "print(\"hello world\")"
      ]
    },
    {
      "cell_type": "code",
      "source": [
        "# Day3\n",
        "# Creating a simple list\n",
        "\n",
        "l= [10,20.3,\"INT\",3+4j]\n",
        "print(l)\n",
        "print(type(l))"
      ],
      "metadata": {
        "colab": {
          "base_uri": "https://localhost:8080/"
        },
        "id": "VPvwxCiYSwXG",
        "outputId": "9b6d858d-8070-48de-9c2a-5283ab5f86d5"
      },
      "execution_count": null,
      "outputs": [
        {
          "output_type": "stream",
          "name": "stdout",
          "text": [
            "[10, 20.3, 'INT', (3+4j)]\n",
            "<class 'list'>\n"
          ]
        }
      ]
    },
    {
      "cell_type": "code",
      "source": [
        "print(\"Renu Gupta\")"
      ],
      "metadata": {
        "colab": {
          "base_uri": "https://localhost:8080/"
        },
        "id": "rOkOnDRZ3X_b",
        "outputId": "e715e6c4-39eb-42c9-c787-f6586390583f"
      },
      "execution_count": null,
      "outputs": [
        {
          "output_type": "stream",
          "name": "stdout",
          "text": [
            "Renu Gupta\n"
          ]
        }
      ]
    },
    {
      "cell_type": "code",
      "source": [
        "prn(\"renu\")\n"
      ],
      "metadata": {
        "id": "34ZbDQBAxLWX",
        "colab": {
          "base_uri": "https://localhost:8080/",
          "height": 141
        },
        "outputId": "5ab03cbc-2eeb-41c1-96fb-5942dfcd078e"
      },
      "execution_count": null,
      "outputs": [
        {
          "output_type": "error",
          "ename": "NameError",
          "evalue": "name 'prn' is not defined",
          "traceback": [
            "\u001b[0;31m---------------------------------------------------------------------------\u001b[0m",
            "\u001b[0;31mNameError\u001b[0m                                 Traceback (most recent call last)",
            "\u001b[0;32m<ipython-input-2-6c2171ba9d42>\u001b[0m in \u001b[0;36m<cell line: 0>\u001b[0;34m()\u001b[0m\n\u001b[0;32m----> 1\u001b[0;31m \u001b[0mprn\u001b[0m\u001b[0;34m(\u001b[0m\u001b[0;34m\"renu\"\u001b[0m\u001b[0;34m)\u001b[0m\u001b[0;34m\u001b[0m\u001b[0;34m\u001b[0m\u001b[0m\n\u001b[0m",
            "\u001b[0;31mNameError\u001b[0m: name 'prn' is not defined"
          ]
        }
      ]
    },
    {
      "cell_type": "code",
      "source": [
        "#list\n",
        "L1 = [10,20,3.14,\"NNTT DATA\", 2+3j,[100,200,300]]\n",
        "print(L1)\n",
        "print(type(L1))\n",
        "print(L1[0], L1[-2])"
      ],
      "metadata": {
        "colab": {
          "base_uri": "https://localhost:8080/"
        },
        "id": "lJ5722gWw3Qt",
        "outputId": "15d1af43-bab6-4531-b0c9-ca352942708d"
      },
      "execution_count": null,
      "outputs": [
        {
          "output_type": "stream",
          "name": "stdout",
          "text": [
            "[10, 20, 3.14, 'NNTT DATA', (2+3j), [100, 200, 300]]\n",
            "<class 'list'>\n",
            "10 (2+3j)\n"
          ]
        }
      ]
    },
    {
      "cell_type": "code",
      "source": [
        "# Type fn returns datatype class\n",
        "a = 3+4j;\n",
        "print(type(a))"
      ],
      "metadata": {
        "colab": {
          "base_uri": "https://localhost:8080/"
        },
        "id": "u1nk_n-0TLDs",
        "outputId": "d35ec754-2b62-46ed-91ce-dbe7a194c1cf"
      },
      "execution_count": null,
      "outputs": [
        {
          "output_type": "stream",
          "name": "stdout",
          "text": [
            "<class 'complex'>\n"
          ]
        }
      ]
    },
    {
      "cell_type": "code",
      "source": [
        "# isinstance\n",
        "a = 10.0\n",
        "print(isinstance(a,int))\n",
        "\n"
      ],
      "metadata": {
        "colab": {
          "base_uri": "https://localhost:8080/"
        },
        "id": "ALBj90YeTyTS",
        "outputId": "6a105eab-4b1f-4cc0-dec9-2a82830d0b18"
      },
      "execution_count": null,
      "outputs": [
        {
          "output_type": "stream",
          "name": "stdout",
          "text": [
            "False\n"
          ]
        }
      ]
    },
    {
      "cell_type": "code",
      "source": [
        "# variable annotations\n",
        "name: str = \"NTT\"\n",
        "print(name)\n",
        "print(__annotations__['name'])"
      ],
      "metadata": {
        "colab": {
          "base_uri": "https://localhost:8080/"
        },
        "id": "HXhFzmIdUX6p",
        "outputId": "0f801cf3-c266-4b38-906c-8360d1857c6c"
      },
      "execution_count": null,
      "outputs": [
        {
          "output_type": "stream",
          "name": "stdout",
          "text": [
            "NTT\n",
            "<class 'str'>\n"
          ]
        }
      ]
    },
    {
      "cell_type": "code",
      "source": [
        "aaa: int = 10\n",
        "print(aaa)\n",
        "\n",
        "\n",
        "print(__annotations__['aaa'])\n",
        "print(type(aaa))"
      ],
      "metadata": {
        "colab": {
          "base_uri": "https://localhost:8080/"
        },
        "id": "4llUCDKoVePa",
        "outputId": "fafd98c6-3387-4f64-b1de-19ae8f31631a"
      },
      "execution_count": null,
      "outputs": [
        {
          "output_type": "stream",
          "name": "stdout",
          "text": [
            "10\n",
            "<class 'int'>\n",
            "<class 'int'>\n"
          ]
        }
      ]
    },
    {
      "cell_type": "code",
      "source": [
        "aaa: int = 10\n",
        "print(aaa)\n",
        "\n",
        "\n",
        "print(__annotations__['aaa'])\n",
        "print(type(aaa))\n"
      ],
      "metadata": {
        "colab": {
          "base_uri": "https://localhost:8080/"
        },
        "id": "XHZFCg2sXdr6",
        "outputId": "19781f59-08b7-450e-afe0-2cdddcb811ca"
      },
      "execution_count": null,
      "outputs": [
        {
          "output_type": "stream",
          "name": "stdout",
          "text": [
            "10\n",
            "<class 'int'>\n",
            "<class 'int'>\n"
          ]
        }
      ]
    },
    {
      "cell_type": "code",
      "source": [
        "#slicing in list\n",
        "L1 = [10,20,3.14,\"NNTT DATA\", 2+3j,[100,200,300]]\n",
        "print(L1[0:5:3])\n",
        "print(L1[::])\n",
        "print(L1[::-1])"
      ],
      "metadata": {
        "colab": {
          "base_uri": "https://localhost:8080/"
        },
        "id": "i49bI0uWytzV",
        "outputId": "bc7f929f-3aa8-4065-c032-1a4dd2abd409"
      },
      "execution_count": null,
      "outputs": [
        {
          "output_type": "stream",
          "name": "stdout",
          "text": [
            "[10, 'NNTT DATA']\n",
            "[10, 20, 3.14, 'NNTT DATA', (2+3j), [100, 200, 300]]\n",
            "[[100, 200, 300], (2+3j), 'NNTT DATA', 3.14, 20, 10]\n"
          ]
        }
      ]
    },
    {
      "cell_type": "code",
      "source": [
        "#concatenation of list\n",
        "l1 = [10,20,30]\n",
        "l2 = [50,60,70]\n",
        "l3 = l1+l2\n",
        "print(id(l1))\n",
        "print(id(l2))\n",
        "print(id(l3))\n",
        "print(l3)"
      ],
      "metadata": {
        "colab": {
          "base_uri": "https://localhost:8080/"
        },
        "id": "umsb9c86z-2w",
        "outputId": "b8618017-1973-4887-dd0e-626127c7c6e3"
      },
      "execution_count": null,
      "outputs": [
        {
          "output_type": "stream",
          "name": "stdout",
          "text": [
            "134944583688512\n",
            "134944583941504\n",
            "134944583931392\n",
            "[10, 20, 30, 50, 60, 70]\n"
          ]
        }
      ]
    },
    {
      "cell_type": "code",
      "source": [
        "#multiplication of list\n",
        "l1 = [10,20,30]\n",
        "l3 = l1*2\n",
        "print(l3)"
      ],
      "metadata": {
        "colab": {
          "base_uri": "https://localhost:8080/"
        },
        "id": "hC0hcrHe1Bno",
        "outputId": "df7de719-cc32-418b-81ef-fc9036060b75"
      },
      "execution_count": null,
      "outputs": [
        {
          "output_type": "stream",
          "name": "stdout",
          "text": [
            "[10, 20, 30, 10, 20, 30]\n"
          ]
        }
      ]
    },
    {
      "cell_type": "code",
      "source": [
        "# iteration through list\n",
        "l1 = [10,20,30,40,50]\n",
        "for i in l1:\n",
        "  print (i+4)"
      ],
      "metadata": {
        "colab": {
          "base_uri": "https://localhost:8080/"
        },
        "id": "o0fq3tF00Wvg",
        "outputId": "9468b172-3d08-42d8-ff93-1ac03deb9cf9"
      },
      "execution_count": null,
      "outputs": [
        {
          "output_type": "stream",
          "name": "stdout",
          "text": [
            "14\n",
            "24\n",
            "34\n",
            "44\n",
            "54\n"
          ]
        }
      ]
    },
    {
      "cell_type": "code",
      "source": [
        "#Mmbership operator in list\n",
        "print(10 in [10,20,30,40])\n",
        "print(50 in [10,20,30,40])\n",
        "print(50 not in [10,20,30,40])\n"
      ],
      "metadata": {
        "colab": {
          "base_uri": "https://localhost:8080/"
        },
        "id": "pKPAURO-14nb",
        "outputId": "3729d33a-e7a4-4c27-ef01-8619db605545"
      },
      "execution_count": null,
      "outputs": [
        {
          "output_type": "stream",
          "name": "stdout",
          "text": [
            "True\n",
            "False\n",
            "True\n"
          ]
        }
      ]
    },
    {
      "cell_type": "code",
      "source": [
        "#deletion of list\n",
        "l1 = [10,20,30]\n",
        "print (l1)\n",
        "del(l1)\n",
        "print(l1)"
      ],
      "metadata": {
        "colab": {
          "base_uri": "https://localhost:8080/",
          "height": 193
        },
        "id": "0G5hqBhp2lk8",
        "outputId": "60ee3a42-5b7a-4d58-9941-9dc615771208"
      },
      "execution_count": null,
      "outputs": [
        {
          "output_type": "stream",
          "name": "stdout",
          "text": [
            "[10, 20, 30]\n"
          ]
        },
        {
          "output_type": "error",
          "ename": "NameError",
          "evalue": "name 'l1' is not defined",
          "traceback": [
            "\u001b[0;31m---------------------------------------------------------------------------\u001b[0m",
            "\u001b[0;31mNameError\u001b[0m                                 Traceback (most recent call last)",
            "\u001b[0;32m<ipython-input-23-f6d546744e1c>\u001b[0m in \u001b[0;36m<cell line: 0>\u001b[0;34m()\u001b[0m\n\u001b[1;32m      3\u001b[0m \u001b[0mprint\u001b[0m \u001b[0;34m(\u001b[0m\u001b[0ml1\u001b[0m\u001b[0;34m)\u001b[0m\u001b[0;34m\u001b[0m\u001b[0;34m\u001b[0m\u001b[0m\n\u001b[1;32m      4\u001b[0m \u001b[0;32mdel\u001b[0m\u001b[0;34m(\u001b[0m\u001b[0ml1\u001b[0m\u001b[0;34m)\u001b[0m\u001b[0;34m\u001b[0m\u001b[0;34m\u001b[0m\u001b[0m\n\u001b[0;32m----> 5\u001b[0;31m \u001b[0mprint\u001b[0m\u001b[0;34m(\u001b[0m\u001b[0ml1\u001b[0m\u001b[0;34m)\u001b[0m\u001b[0;34m\u001b[0m\u001b[0;34m\u001b[0m\u001b[0m\n\u001b[0m",
            "\u001b[0;31mNameError\u001b[0m: name 'l1' is not defined"
          ]
        }
      ]
    },
    {
      "cell_type": "code",
      "source": [
        "#Inbuilt functions\n",
        "#max function\n",
        "l1 = [220,4573,100,20,30]\n",
        "print (max(l1))\n",
        "l2 = [\"aaa\",\"bbbbbbb\",\"zzz\"]\n",
        "print (max(l2))\n",
        "l3 = [10,20,'NTT DAT']\n",
        "print (max(l3))"
      ],
      "metadata": {
        "colab": {
          "base_uri": "https://localhost:8080/",
          "height": 211
        },
        "id": "6meTcFnc3xi8",
        "outputId": "4652c8b9-7460-42b4-c93c-fe00f7f7de38"
      },
      "execution_count": null,
      "outputs": [
        {
          "output_type": "stream",
          "name": "stdout",
          "text": [
            "4573\n",
            "zzz\n"
          ]
        },
        {
          "output_type": "error",
          "ename": "TypeError",
          "evalue": "'>' not supported between instances of 'str' and 'int'",
          "traceback": [
            "\u001b[0;31m---------------------------------------------------------------------------\u001b[0m",
            "\u001b[0;31mTypeError\u001b[0m                                 Traceback (most recent call last)",
            "\u001b[0;32m<ipython-input-30-d6a7850193b2>\u001b[0m in \u001b[0;36m<cell line: 0>\u001b[0;34m()\u001b[0m\n\u001b[1;32m      6\u001b[0m \u001b[0mprint\u001b[0m \u001b[0;34m(\u001b[0m\u001b[0mmax\u001b[0m\u001b[0;34m(\u001b[0m\u001b[0ml2\u001b[0m\u001b[0;34m)\u001b[0m\u001b[0;34m)\u001b[0m\u001b[0;34m\u001b[0m\u001b[0;34m\u001b[0m\u001b[0m\n\u001b[1;32m      7\u001b[0m \u001b[0ml3\u001b[0m \u001b[0;34m=\u001b[0m \u001b[0;34m[\u001b[0m\u001b[0;36m10\u001b[0m\u001b[0;34m,\u001b[0m\u001b[0;36m20\u001b[0m\u001b[0;34m,\u001b[0m\u001b[0;34m'NTT DAT'\u001b[0m\u001b[0;34m]\u001b[0m\u001b[0;34m\u001b[0m\u001b[0;34m\u001b[0m\u001b[0m\n\u001b[0;32m----> 8\u001b[0;31m \u001b[0mprint\u001b[0m \u001b[0;34m(\u001b[0m\u001b[0mmax\u001b[0m\u001b[0;34m(\u001b[0m\u001b[0ml3\u001b[0m\u001b[0;34m)\u001b[0m\u001b[0;34m)\u001b[0m\u001b[0;34m\u001b[0m\u001b[0;34m\u001b[0m\u001b[0m\n\u001b[0m",
            "\u001b[0;31mTypeError\u001b[0m: '>' not supported between instances of 'str' and 'int'"
          ]
        }
      ]
    },
    {
      "cell_type": "code",
      "source": [],
      "metadata": {
        "id": "7NZG8ZLYFu1L"
      },
      "execution_count": null,
      "outputs": []
    },
    {
      "cell_type": "code",
      "source": [
        "#Inbuilt functions\n",
        "#max function\n",
        "\n",
        "l2 = [\"aaaaaaaaaa\",\"bbbbbbb\",\"zzz\"]\n",
        "print(max(l2, key= len))"
      ],
      "metadata": {
        "colab": {
          "base_uri": "https://localhost:8080/"
        },
        "id": "YrcWHmHE4wU0",
        "outputId": "5b21173c-3103-4ee9-8b1e-092e49316ca3"
      },
      "execution_count": null,
      "outputs": [
        {
          "output_type": "stream",
          "name": "stdout",
          "text": [
            "aaaaaaaaaa\n"
          ]
        }
      ]
    },
    {
      "cell_type": "code",
      "source": [
        "#Inbuilt functions\n",
        "#max function\n",
        "\n",
        "l2 = [\"aaaaaaaaaa\",\"bbbbbbb\",\"zzz\"]\n",
        "print(max(l2, key= len))\n",
        "l5 = []\n",
        "print(max(l5,default=0))"
      ],
      "metadata": {
        "colab": {
          "base_uri": "https://localhost:8080/"
        },
        "id": "UkUAUEFX5b8b",
        "outputId": "b4749fbb-d667-473c-864c-e21b03a29dae"
      },
      "execution_count": null,
      "outputs": [
        {
          "output_type": "stream",
          "name": "stdout",
          "text": [
            "aaaaaaaaaa\n",
            "0\n"
          ]
        }
      ]
    },
    {
      "cell_type": "code",
      "source": [
        "#append of list\n",
        "l1 = [10,20,30]\n",
        "l2 = [2,3,4]\n",
        "print (l1)\n",
        "l1.append(50)\n",
        "l1.append(60)\n",
        "l1.append(70)\n",
        "l1.append(l2)\n",
        "print (l1)"
      ],
      "metadata": {
        "colab": {
          "base_uri": "https://localhost:8080/"
        },
        "id": "I4DddAS66ueN",
        "outputId": "8aed7b6c-d6e4-4f80-c082-056b9bbac0b9"
      },
      "execution_count": null,
      "outputs": [
        {
          "output_type": "stream",
          "name": "stdout",
          "text": [
            "[10, 20, 30]\n",
            "[10, 20, 30, 50, 60, 70, [2, 3, 4]]\n"
          ]
        }
      ]
    },
    {
      "cell_type": "code",
      "source": [
        "l1=[10]\n",
        "i=1\n",
        "for i in range(6):\n",
        "  l=int(input(\"enter\"))\n",
        "  l1.append(l)\n",
        "\n",
        "\n",
        "print(l1)"
      ],
      "metadata": {
        "colab": {
          "base_uri": "https://localhost:8080/"
        },
        "id": "ePHmSywg7o52",
        "outputId": "fd51e546-c6f3-4d46-e052-9ee7363d2b4b"
      },
      "execution_count": null,
      "outputs": [
        {
          "output_type": "stream",
          "name": "stdout",
          "text": [
            "enter1\n",
            "enter2\n",
            "enter3\n",
            "enter4\n",
            "enter2\n",
            "enter1\n",
            "[10, 1, 2, 3, 4, 2, 1]\n"
          ]
        }
      ]
    },
    {
      "cell_type": "code",
      "source": [
        "#append method\n",
        "l1 = [10,20,30]\n",
        "l2= [40,50,60]\n",
        "l1.append(l2)\n",
        "print(l1)"
      ],
      "metadata": {
        "colab": {
          "base_uri": "https://localhost:8080/"
        },
        "id": "rm02R4zl9jxm",
        "outputId": "acb4560b-fd48-4e5b-b772-f0054eebfc63"
      },
      "execution_count": null,
      "outputs": [
        {
          "output_type": "stream",
          "name": "stdout",
          "text": [
            "[10, 20, 30, [40, 50, 60]]\n"
          ]
        }
      ]
    },
    {
      "cell_type": "code",
      "source": [
        "#extend method\n",
        "l1 = [10,20,30]\n",
        "l2= [40,50,60]\n",
        "l1.extend(l2)\n",
        "print(l1)"
      ],
      "metadata": {
        "colab": {
          "base_uri": "https://localhost:8080/"
        },
        "id": "0Qvu3RAK97jG",
        "outputId": "32d36981-a7e2-40cc-8aa8-0097fa275fae"
      },
      "execution_count": null,
      "outputs": [
        {
          "output_type": "stream",
          "name": "stdout",
          "text": [
            "[10, 20, 30, 40, 50, 60]\n"
          ]
        }
      ]
    },
    {
      "cell_type": "code",
      "source": [],
      "metadata": {
        "id": "vT9wIfnE_MKH"
      },
      "execution_count": null,
      "outputs": []
    },
    {
      "cell_type": "code",
      "source": [
        "#insert method\n",
        "l1 = [10,20,30]\n",
        "l2= [40,50,60]\n",
        "l1.insert(1,50)\n",
        "print(l1)"
      ],
      "metadata": {
        "colab": {
          "base_uri": "https://localhost:8080/"
        },
        "id": "dn9Fls2I-Em2",
        "outputId": "153bb0b8-38dc-4fed-c90e-1b99ec07312f"
      },
      "execution_count": null,
      "outputs": [
        {
          "output_type": "stream",
          "name": "stdout",
          "text": [
            "[10, 50, 20, 30]\n"
          ]
        }
      ]
    },
    {
      "cell_type": "code",
      "source": [
        "#remove method\n",
        "l1 = [10,20,30,40,30,50]\n",
        "l1.remove(30)\n",
        "print(l1)"
      ],
      "metadata": {
        "colab": {
          "base_uri": "https://localhost:8080/"
        },
        "id": "BwWsgwc3_NTG",
        "outputId": "e62f595a-75ed-4a7e-f8ba-e1d33a1a24e3"
      },
      "execution_count": null,
      "outputs": [
        {
          "output_type": "stream",
          "name": "stdout",
          "text": [
            "[10, 20, 40, 30, 50]\n"
          ]
        }
      ]
    },
    {
      "cell_type": "code",
      "source": [
        "#pop method\n",
        "l1 = [10,20,30,40,30,50]\n",
        "num = l1.pop()\n",
        "print(l1)\n",
        "print(num)"
      ],
      "metadata": {
        "colab": {
          "base_uri": "https://localhost:8080/"
        },
        "id": "EK3rMFws_q7c",
        "outputId": "81f569fe-17f2-4791-9805-892269021ca4"
      },
      "execution_count": null,
      "outputs": [
        {
          "output_type": "stream",
          "name": "stdout",
          "text": [
            "[10, 20, 30, 40, 30]\n",
            "50\n"
          ]
        }
      ]
    },
    {
      "cell_type": "code",
      "source": [
        "#pop method\n",
        "l1 = [10,20,30,40,30,50]\n",
        "num = l1.pop(3)\n",
        "print(l1)\n",
        "print(num)"
      ],
      "metadata": {
        "colab": {
          "base_uri": "https://localhost:8080/"
        },
        "id": "uHKAmf7A_8p0",
        "outputId": "889b126a-155b-4ff1-94ad-7697de90f668"
      },
      "execution_count": null,
      "outputs": [
        {
          "output_type": "stream",
          "name": "stdout",
          "text": [
            "[10, 20, 30, 30, 50]\n",
            "40\n"
          ]
        }
      ]
    },
    {
      "cell_type": "code",
      "source": [
        "# my program\n",
        "l1 = [10,20,10,30,20,45]\n",
        "num = l1.pop(2)\n",
        "num1 = l1.pop(3)\n",
        "print(l1)"
      ],
      "metadata": {
        "colab": {
          "base_uri": "https://localhost:8080/"
        },
        "id": "civUHvCuCOEH",
        "outputId": "2ff9e71a-d434-4456-c1e2-09848149e0b0"
      },
      "execution_count": null,
      "outputs": [
        {
          "output_type": "stream",
          "name": "stdout",
          "text": [
            "[10, 20, 30, 45]\n"
          ]
        }
      ]
    },
    {
      "cell_type": "code",
      "source": [
        "#find duplicate\n",
        "l1 = [10,20,10,30,20,45]\n",
        "l2= []\n",
        "for i in l1:\n",
        "  if i not in l2:\n",
        "    l2.append(i)\n",
        "print(l2)"
      ],
      "metadata": {
        "colab": {
          "base_uri": "https://localhost:8080/"
        },
        "id": "HKoCyfojDYjp",
        "outputId": "69f4f1c3-deb6-4ec2-ae3a-9a4f9469f5e2"
      },
      "execution_count": null,
      "outputs": [
        {
          "output_type": "stream",
          "name": "stdout",
          "text": [
            "[10, 20, 30, 45]\n"
          ]
        }
      ]
    },
    {
      "cell_type": "code",
      "source": [
        "#find 2nd larget element\n",
        "l1=[10,20,30,40,50]\n",
        "element = max(l1)\n",
        "l1.remove(element)\n",
        "print(max(l1))"
      ],
      "metadata": {
        "colab": {
          "base_uri": "https://localhost:8080/"
        },
        "id": "NbCL0-Y9FxV7",
        "outputId": "8deac511-3219-4747-e5ce-98436f14cd28"
      },
      "execution_count": null,
      "outputs": [
        {
          "output_type": "stream",
          "name": "stdout",
          "text": [
            "40\n"
          ]
        }
      ]
    },
    {
      "cell_type": "code",
      "source": [
        "#list\n",
        "s= \"NTT DATA\"\n",
        "l2 = list(s)\n",
        "print(l2)"
      ],
      "metadata": {
        "id": "0c2M_TyHD1LV",
        "outputId": "2ee1ebaf-9f1a-4816-c7fa-0b1b0f4003c6",
        "colab": {
          "base_uri": "https://localhost:8080/"
        }
      },
      "execution_count": null,
      "outputs": [
        {
          "output_type": "stream",
          "name": "stdout",
          "text": [
            "['N', 'T', 'T', ' ', 'D', 'A', 'T', 'A']\n"
          ]
        }
      ]
    },
    {
      "cell_type": "code",
      "source": [
        "l = [2,3,3,4,4,4,4,2,6,7,8,6]\n",
        "l1 = []\n",
        "l2 = []\n",
        "for i in l:\n",
        "  if i not in l1:\n",
        "    l1.append(i)\n",
        "    l2.append(l.count(i))\n",
        "\n",
        "print(l1)\n",
        "print(l2)"
      ],
      "metadata": {
        "id": "28pZYJOOEHVQ",
        "outputId": "cf703ae4-66fa-43f8-9d49-2428fdf6b50b",
        "colab": {
          "base_uri": "https://localhost:8080/"
        }
      },
      "execution_count": null,
      "outputs": [
        {
          "output_type": "stream",
          "name": "stdout",
          "text": [
            "[2, 3, 4, 6, 7, 8]\n",
            "[2, 2, 4, 2, 1, 1]\n"
          ]
        }
      ]
    },
    {
      "cell_type": "code",
      "source": [
        "l = [2,3,3,4,4,4,4,2,6,7,8,6]\n",
        "l1 = []\n",
        "l2 = []\n",
        "for i in l:\n",
        "  if i not in l1:\n",
        "    l1.append(i)\n",
        "    l2.append(1)\n",
        "  else:\n",
        "    index=l1.index(i)\n",
        "    l2[index] = l2[index] + 1\n",
        "\n",
        "print(l1)\n",
        "print(l2)"
      ],
      "metadata": {
        "id": "IXaM5CiSGMxv",
        "outputId": "9c4999e6-7fc7-4cbc-b3a3-c5b09506c7ab",
        "colab": {
          "base_uri": "https://localhost:8080/"
        }
      },
      "execution_count": null,
      "outputs": [
        {
          "output_type": "stream",
          "name": "stdout",
          "text": [
            "[2, 3, 4, 6, 7, 8]\n",
            "[2, 2, 4, 2, 1, 1]\n"
          ]
        }
      ]
    },
    {
      "cell_type": "code",
      "source": [
        "#tuples\n",
        "\n",
        "t1 = (1,2,3,\"NTT\",[4,5,6],(8,9))\n",
        "\n",
        "print(t1)"
      ],
      "metadata": {
        "id": "PEOG-6HPJHCA",
        "outputId": "cf1ea3ba-8896-4f54-ebf5-e00eac6beb0e",
        "colab": {
          "base_uri": "https://localhost:8080/"
        }
      },
      "execution_count": null,
      "outputs": [
        {
          "output_type": "stream",
          "name": "stdout",
          "text": [
            "(1, 2, 3, 'NTT', [4, 5, 6], (8, 9))\n"
          ]
        }
      ]
    },
    {
      "cell_type": "code",
      "source": [
        "#tuple method\n",
        "s= '\"NTT DATA'\n",
        "\n",
        "t2 =tuple(s)\n",
        "\n",
        "print(t2)"
      ],
      "metadata": {
        "id": "ZbJnU5mjJ-ZW",
        "outputId": "7c65f76e-7a23-49ab-ce42-eb77bd2e3ae6",
        "colab": {
          "base_uri": "https://localhost:8080/"
        }
      },
      "execution_count": null,
      "outputs": [
        {
          "output_type": "stream",
          "name": "stdout",
          "text": [
            "('\"', 'N', 'T', 'T', ' ', 'D', 'A', 'T', 'A')\n"
          ]
        }
      ]
    },
    {
      "cell_type": "code",
      "source": [
        "t = (10)\n",
        "print(t)\n",
        "print(type(t))"
      ],
      "metadata": {
        "id": "hxjQQsb-LTp-",
        "outputId": "537c4bee-76df-49cc-b3a3-176348cfc810",
        "colab": {
          "base_uri": "https://localhost:8080/"
        }
      },
      "execution_count": null,
      "outputs": [
        {
          "output_type": "stream",
          "name": "stdout",
          "text": [
            "10\n",
            "<class 'int'>\n"
          ]
        }
      ]
    },
    {
      "cell_type": "code",
      "source": [
        "t = (10,)\n",
        "print(t)\n",
        "print(type(t))"
      ],
      "metadata": {
        "id": "S0kWuS7nLdHO",
        "outputId": "8869955c-5150-46c2-9b26-9097a3b01af6",
        "colab": {
          "base_uri": "https://localhost:8080/"
        }
      },
      "execution_count": null,
      "outputs": [
        {
          "output_type": "stream",
          "name": "stdout",
          "text": [
            "(10,)\n",
            "<class 'tuple'>\n"
          ]
        }
      ]
    },
    {
      "cell_type": "code",
      "source": [
        "t = ('R')\n",
        "print(t)\n",
        "print(type(t))"
      ],
      "metadata": {
        "id": "Gqebqka8Lgfl",
        "outputId": "85b73d7e-bc18-4e8e-9729-1d385f6f38f1",
        "colab": {
          "base_uri": "https://localhost:8080/"
        }
      },
      "execution_count": null,
      "outputs": [
        {
          "output_type": "stream",
          "name": "stdout",
          "text": [
            "R\n",
            "<class 'str'>\n"
          ]
        }
      ]
    },
    {
      "cell_type": "code",
      "source": [
        "t = ('R',)\n",
        "print(t)\n",
        "print(type(t))"
      ],
      "metadata": {
        "id": "5G1hynq4LkB0",
        "outputId": "e3d43f2c-4471-4e7c-b898-4f8c1e2bddee",
        "colab": {
          "base_uri": "https://localhost:8080/"
        }
      },
      "execution_count": null,
      "outputs": [
        {
          "output_type": "stream",
          "name": "stdout",
          "text": [
            "('R',)\n",
            "<class 'tuple'>\n"
          ]
        }
      ]
    },
    {
      "cell_type": "code",
      "source": [
        "#Dict\n",
        "d = {\"name\": \"Renu\",\"age\" : 40,\"city\": \"Mumbai\"}\n",
        "print(d)\n",
        "print(type(d))"
      ],
      "metadata": {
        "id": "wYmS7XLVQPYB",
        "outputId": "5c0bc97e-e1b7-444b-efed-264c114947cf",
        "colab": {
          "base_uri": "https://localhost:8080/"
        }
      },
      "execution_count": null,
      "outputs": [
        {
          "output_type": "stream",
          "name": "stdout",
          "text": [
            "{'name': 'Renu', 'age': 40, 'city': 'Mumbai'}\n",
            "<class 'dict'>\n"
          ]
        }
      ]
    },
    {
      "cell_type": "code",
      "source": [
        "#Dict\n",
        "d = {\"name\": \"Renu\",\"age\" : 40,\"city\": \"Mumbai\"}\n",
        "print(d.keys())\n",
        "print(d.values())\n",
        "print(d.items())"
      ],
      "metadata": {
        "id": "2dfW9JJoQorR",
        "outputId": "c494a341-1cd1-4184-b64e-11e7e7a2a8f3",
        "colab": {
          "base_uri": "https://localhost:8080/"
        }
      },
      "execution_count": null,
      "outputs": [
        {
          "output_type": "stream",
          "name": "stdout",
          "text": [
            "dict_keys(['name', 'age', 'city'])\n",
            "dict_values(['Renu', 40, 'Mumbai'])\n",
            "dict_items([('name', 'Renu'), ('age', 40), ('city', 'Mumbai')])\n"
          ]
        }
      ]
    },
    {
      "cell_type": "code",
      "source": [
        "# Create Dictonary\n",
        "D1 = {2:100, 4:200,      6:300,      8:400,      10:500 }\n",
        "print(D1)\n",
        "print(type(D1))"
      ],
      "metadata": {
        "colab": {
          "base_uri": "https://localhost:8080/"
        },
        "id": "kPEf7EtMbVOj",
        "outputId": "c2c0bbcf-7c0f-4d48-e33c-0f2f29d3e8dc"
      },
      "execution_count": null,
      "outputs": [
        {
          "output_type": "stream",
          "name": "stdout",
          "text": [
            "{2: 100, 4: 200, 6: 300, 8: 400, 10: 500}\n",
            "<class 'dict'>\n"
          ]
        }
      ]
    },
    {
      "cell_type": "code",
      "source": [
        "D1 = {'aa':100, 'bb':200,      'cc':300,      'dd':400,      10:500 }\n",
        "print(D1)\n",
        "print(D1['cc'])\n"
      ],
      "metadata": {
        "colab": {
          "base_uri": "https://localhost:8080/"
        },
        "id": "aK59gIX_ceTK",
        "outputId": "8d5dd6a9-d45f-4eaf-f5e7-a560859b5feb"
      },
      "execution_count": null,
      "outputs": [
        {
          "output_type": "stream",
          "name": "stdout",
          "text": [
            "{'aa': 100, 'bb': 200, 'cc': 300, 'dd': 400, 10: 500}\n",
            "300\n",
            "<class 'dict'>\n"
          ]
        }
      ]
    },
    {
      "cell_type": "code",
      "source": [
        "D1 = {2:[1,2,3], 3:(4,5,6),   4:'NTT' }\n",
        "print(D1)\n",
        "print(D1[3])"
      ],
      "metadata": {
        "colab": {
          "base_uri": "https://localhost:8080/"
        },
        "id": "WWtNA1s5cxZv",
        "outputId": "c6e15423-7861-4093-a7a5-5d2d1cb77b77"
      },
      "execution_count": null,
      "outputs": [
        {
          "output_type": "stream",
          "name": "stdout",
          "text": [
            "{2: [1, 2, 3], 3: (4, 5, 6), 4: 'NTT'}\n",
            "(4, 5, 6)\n"
          ]
        }
      ]
    },
    {
      "cell_type": "code",
      "source": [
        "D1 = {(1,2) : 100,\n",
        "      (4,5): 200,\n",
        "      (5,6): 300}\n",
        "print(D1)\n",
        "print(D1[(4,5)])"
      ],
      "metadata": {
        "colab": {
          "base_uri": "https://localhost:8080/"
        },
        "id": "XuFw1xn8dI2e",
        "outputId": "f94648fb-69d3-487d-e0a7-090f9ffaa337"
      },
      "execution_count": null,
      "outputs": [
        {
          "output_type": "stream",
          "name": "stdout",
          "text": [
            "{(1, 2): 100, (4, 5): 200, (5, 6): 300}\n",
            "200\n"
          ]
        }
      ]
    },
    {
      "cell_type": "code",
      "source": [
        "# ITERATION Dictonary thorugh keys\n",
        "D1 = {2:100, 4:200,      6:300,      8:400,      10:500 }\n",
        "for i in D1:\n",
        "  print(i)\n"
      ],
      "metadata": {
        "colab": {
          "base_uri": "https://localhost:8080/"
        },
        "id": "0oGvajnieW2G",
        "outputId": "2a514815-b0de-4546-a8f4-bf5ad95fa747"
      },
      "execution_count": null,
      "outputs": [
        {
          "output_type": "stream",
          "name": "stdout",
          "text": [
            "2\n",
            "4\n",
            "6\n",
            "8\n",
            "10\n"
          ]
        }
      ]
    },
    {
      "cell_type": "code",
      "source": [
        "# ITERATION Dictonary thorugh values\n",
        "D1 = {2:100, 4:200,      6:300,      8:400,      10:500 }\n",
        "for i in D1.values():\n",
        "  print(i)"
      ],
      "metadata": {
        "colab": {
          "base_uri": "https://localhost:8080/"
        },
        "id": "quT7xERKezPH",
        "outputId": "838b88e3-db06-4139-c6da-3dec1a0b15ed"
      },
      "execution_count": null,
      "outputs": [
        {
          "output_type": "stream",
          "name": "stdout",
          "text": [
            "100\n",
            "200\n",
            "300\n",
            "400\n",
            "500\n"
          ]
        }
      ]
    },
    {
      "cell_type": "code",
      "source": [
        "# ITERATION Dictonary thorugh values\n",
        "D1 = {2:100, 4:200,      6:300,      8:400,      10:500 }\n",
        "for i in D1.items():\n",
        "  print(i)"
      ],
      "metadata": {
        "colab": {
          "base_uri": "https://localhost:8080/"
        },
        "id": "iVoNCm5Te8kk",
        "outputId": "976463ee-4de5-4129-8ee7-fb932f936a89"
      },
      "execution_count": null,
      "outputs": [
        {
          "output_type": "stream",
          "name": "stdout",
          "text": [
            "(2, 100)\n",
            "(4, 200)\n",
            "(6, 300)\n",
            "(8, 400)\n",
            "(10, 500)\n"
          ]
        }
      ]
    },
    {
      "cell_type": "code",
      "source": [
        "D1 = {2:100, 4:200,      6:300,      8:400,      10:500 }\n",
        "for i in D1:\n",
        "  print(D1[i])"
      ],
      "metadata": {
        "colab": {
          "base_uri": "https://localhost:8080/"
        },
        "id": "F1QlyKh7f_R9",
        "outputId": "badc951f-3e29-4bec-9638-79b6a198136e"
      },
      "execution_count": null,
      "outputs": [
        {
          "output_type": "stream",
          "name": "stdout",
          "text": [
            "100\n",
            "200\n",
            "300\n",
            "400\n",
            "500\n"
          ]
        }
      ]
    },
    {
      "cell_type": "code",
      "source": [
        "# Membership Operator\n",
        "D1 = {2:100, 4:200,      6:300,      8:400,      10:500 }\n",
        "if 2 in D1:\n",
        "  print(\"yes\")"
      ],
      "metadata": {
        "colab": {
          "base_uri": "https://localhost:8080/"
        },
        "id": "LMPfT354hL2G",
        "outputId": "f63f09de-b092-4a14-d08a-b60744534861"
      },
      "execution_count": null,
      "outputs": [
        {
          "output_type": "stream",
          "name": "stdout",
          "text": [
            "yes\n"
          ]
        }
      ]
    },
    {
      "cell_type": "code",
      "source": [
        "D1 = {2:100, 4:200,      6:300,      8:400,      10:500 }\n",
        "print(D1.keys())"
      ],
      "metadata": {
        "colab": {
          "base_uri": "https://localhost:8080/"
        },
        "id": "72GCcXWsiI82",
        "outputId": "6b9e2306-80e7-4380-a3ac-3eb779fa8dcf"
      },
      "execution_count": null,
      "outputs": [
        {
          "output_type": "stream",
          "name": "stdout",
          "text": [
            "dict_keys([2, 4, 6, 8, 10])\n"
          ]
        }
      ]
    },
    {
      "cell_type": "code",
      "source": [
        "D1 = {2:100, 4:200,      6:300,      8:400,      10:500 }\n",
        "keys = D1.keys()\n",
        "print(keys)\n",
        "keys = list(keys)\n",
        "print(keys)"
      ],
      "metadata": {
        "colab": {
          "base_uri": "https://localhost:8080/"
        },
        "id": "YVVhaaDuiUZD",
        "outputId": "bd273b17-ad6a-40ec-b8dc-aec1b6bc5849"
      },
      "execution_count": null,
      "outputs": [
        {
          "output_type": "stream",
          "name": "stdout",
          "text": [
            "dict_keys([2, 4, 6, 8, 10])\n",
            "[2, 4, 6, 8, 10]\n"
          ]
        }
      ]
    },
    {
      "cell_type": "code",
      "source": [
        "D1 = {2:100, 4:200,      6:300,      8:400,      10:500 }\n",
        "keys = D1.values()\n",
        "print(keys)\n",
        "\n",
        "keys = list(keys)\n",
        "print(keys)"
      ],
      "metadata": {
        "colab": {
          "base_uri": "https://localhost:8080/"
        },
        "id": "EVYkGy8fjKiD",
        "outputId": "bf4f6d76-580d-47b9-da84-fa3f717c2dc4"
      },
      "execution_count": null,
      "outputs": [
        {
          "output_type": "stream",
          "name": "stdout",
          "text": [
            "dict_values([100, 200, 300, 400, 500])\n",
            "[100, 200, 300, 400, 500]\n"
          ]
        }
      ]
    },
    {
      "cell_type": "code",
      "source": [
        "D1 = {2:100, 4:200,      6:300,      8:400,      10:500 }\n",
        "keys = D1.items()\n",
        "print(keys)"
      ],
      "metadata": {
        "colab": {
          "base_uri": "https://localhost:8080/"
        },
        "id": "KxF0wOR_jUwY",
        "outputId": "0cc83817-050f-492b-d066-a6d481af4218"
      },
      "execution_count": null,
      "outputs": [
        {
          "output_type": "stream",
          "name": "stdout",
          "text": [
            "dict_items([(2, 100), (4, 200), (6, 300), (8, 400), (10, 500)])\n"
          ]
        }
      ]
    },
    {
      "cell_type": "code",
      "source": [
        "D1 = {2:100, 4:200,      6:300,      8:400,      10:500 }\n",
        "keys = D1.get(2)\n",
        "print(keys)"
      ],
      "metadata": {
        "colab": {
          "base_uri": "https://localhost:8080/"
        },
        "id": "H9bMEL8FjY8R",
        "outputId": "44c8365d-0207-4547-a6e0-a302252076de"
      },
      "execution_count": null,
      "outputs": [
        {
          "output_type": "stream",
          "name": "stdout",
          "text": [
            "100\n"
          ]
        }
      ]
    },
    {
      "cell_type": "code",
      "source": [
        "D1 = {2:100, 4:200,      6:300,      8:400,      10:500 }\n",
        "keys = D1.get(100)\n",
        "print(keys)"
      ],
      "metadata": {
        "colab": {
          "base_uri": "https://localhost:8080/"
        },
        "id": "ZHPzSdh8j4hh",
        "outputId": "8427dabe-b439-427c-d61f-9ab01e0f3077"
      },
      "execution_count": null,
      "outputs": [
        {
          "output_type": "stream",
          "name": "stdout",
          "text": [
            "None\n"
          ]
        }
      ]
    },
    {
      "cell_type": "code",
      "source": [
        "D1 = {2:100, 4:200,      6:300,      8:400,      10:500 }\n",
        "keys = D1.get(100,12)\n",
        "print(keys)"
      ],
      "metadata": {
        "colab": {
          "base_uri": "https://localhost:8080/"
        },
        "id": "NatFwPSNj9a8",
        "outputId": "1ade6b79-9bd5-478e-e192-69ee8632e904"
      },
      "execution_count": null,
      "outputs": [
        {
          "output_type": "stream",
          "name": "stdout",
          "text": [
            "12\n"
          ]
        }
      ]
    },
    {
      "cell_type": "code",
      "source": [
        "D1 = {2:100, 4:200,      6:300,      8:400,      10:500 }\n",
        "i = D1.pop(4)\n",
        "print(i)\n",
        "print(D1)"
      ],
      "metadata": {
        "colab": {
          "base_uri": "https://localhost:8080/"
        },
        "id": "8cN8xp0fkK1b",
        "outputId": "3d10e285-4890-48aa-c2a1-bbc70d65dd4b"
      },
      "execution_count": null,
      "outputs": [
        {
          "output_type": "stream",
          "name": "stdout",
          "text": [
            "200\n",
            "{2: 100, 6: 300, 8: 400, 10: 500}\n"
          ]
        }
      ]
    },
    {
      "cell_type": "code",
      "source": [
        "# UPDATE METHOD\n",
        "D1 = {2:100, 4:200,      6:300,      8:400,      10:500}\n",
        "D2 = {11:1000, 30:2000}\n",
        "D1.update(D2)\n",
        "print(D1)\n",
        "\n",
        "D1 = {2:100, 4:200,      6:300,      8:400,      10:500}\n",
        "D2 = {10:1000, 30:2000}\n",
        "D1.update(D2)\n",
        "print(D1)\n",
        "\n",
        "D2 = {10:1000, 30:2000}\n",
        "D1.update(D2)\n",
        "print(D1)"
      ],
      "metadata": {
        "colab": {
          "base_uri": "https://localhost:8080/"
        },
        "id": "I5WokbEolecX",
        "outputId": "f094a157-0550-44b4-b7fa-9a86573a5781"
      },
      "execution_count": null,
      "outputs": [
        {
          "output_type": "stream",
          "name": "stdout",
          "text": [
            "{2: 100, 4: 200, 6: 300, 8: 400, 10: 500, 11: 1000, 30: 2000}\n",
            "{2: 100, 4: 200, 6: 300, 8: 400, 10: 1000, 30: 2000}\n",
            "{2: 100, 4: 200, 6: 300, 8: 400, 10: 1000, 30: 2000}\n"
          ]
        }
      ]
    },
    {
      "cell_type": "code",
      "source": [
        "# UPDATE METHOD\n",
        "D1 = {2:100, 4:200,      6:300,      8:400,      10:500}\n",
        "D2 = {11:1000, 30:2000}\n",
        "D1.update(D2)\n",
        "print(D1)\n",
        "\n",
        "\n",
        "D2 = {10:1000, 30:2000}\n",
        "D1.update(D2)\n",
        "print(D1)"
      ],
      "metadata": {
        "colab": {
          "base_uri": "https://localhost:8080/"
        },
        "id": "djILkxFaminp",
        "outputId": "253a3d0a-add6-4b5f-dbee-d367cb1446d4"
      },
      "execution_count": null,
      "outputs": [
        {
          "output_type": "stream",
          "name": "stdout",
          "text": [
            "{2: 100, 4: 200, 6: 300, 8: 400, 10: 500, 11: 1000, 30: 2000}\n",
            "{2: 100, 4: 200, 6: 300, 8: 400, 10: 1000, 11: 1000, 30: 2000}\n"
          ]
        }
      ]
    },
    {
      "cell_type": "code",
      "source": [
        "# Shallow copy\n",
        "\n",
        "x1 = {2:100, 4:200,      6:300,      8:400,      10:500}\n",
        "\n",
        "x2= x1.copy()\n",
        "print(x1)\n",
        "print(x2)\n",
        "print(id(x1))\n",
        "print(id(x2))\n",
        "\n",
        "\n"
      ],
      "metadata": {
        "colab": {
          "base_uri": "https://localhost:8080/"
        },
        "id": "7uppCDrJnkVa",
        "outputId": "778f33a9-9f3f-49b0-f588-c92d6a67ba56"
      },
      "execution_count": null,
      "outputs": [
        {
          "output_type": "stream",
          "name": "stdout",
          "text": [
            "{2: 100, 4: 200, 6: 300, 8: 400, 10: 500}\n",
            "{2: 100, 4: 200, 6: 300, 8: 400, 10: 500}\n",
            "134960850718016\n",
            "134960850727424\n"
          ]
        }
      ]
    },
    {
      "cell_type": "code",
      "source": [
        "x1 = {2:100, 4:200,      6:300,      8:400,      10:500}\n",
        "\n",
        "x2= x1\n",
        "print(x1)\n",
        "print(x2)\n",
        "print(id(x1))\n",
        "print(id(x2))\n"
      ],
      "metadata": {
        "colab": {
          "base_uri": "https://localhost:8080/"
        },
        "id": "sYWmclqQpOkS",
        "outputId": "b5a3ad16-cc92-48b7-f711-7ba9c15d16a8"
      },
      "execution_count": null,
      "outputs": [
        {
          "output_type": "stream",
          "name": "stdout",
          "text": [
            "{2: 100, 4: 200, 6: 300, 8: 400, 10: 500}\n",
            "{2: 100, 4: 200, 6: 300, 8: 400, 10: 500}\n",
            "134960850724224\n",
            "134960850724224\n"
          ]
        }
      ]
    },
    {
      "cell_type": "code",
      "source": [
        "#DEEP COPY\n",
        "import copy\n",
        "x1 = {2:100, 4:200,      6:300,      8:400,      10:500}\n",
        "x2= copy.deepcopy(x1)\n",
        "print(x1)\n",
        "print(x2)\n",
        "print(id(x1))\n",
        "print(id(x2))\n"
      ],
      "metadata": {
        "colab": {
          "base_uri": "https://localhost:8080/"
        },
        "id": "dcoEKHlxpc_s",
        "outputId": "4bb39862-1be1-4843-822e-265e55700cc4"
      },
      "execution_count": null,
      "outputs": [
        {
          "output_type": "stream",
          "name": "stdout",
          "text": [
            "{2: 100, 4: 200, 6: 300, 8: 400, 10: 500}\n",
            "{2: 100, 4: 200, 6: 300, 8: 400, 10: 500}\n",
            "134961077065280\n",
            "134960853246528\n"
          ]
        }
      ]
    },
    {
      "cell_type": "code",
      "source": [
        "# fromkeys\n",
        "\n",
        "keys= [1,2,3,4]\n",
        "d1 = dict.fromkeys(keys, 2000)\n",
        "print(d1)"
      ],
      "metadata": {
        "colab": {
          "base_uri": "https://localhost:8080/"
        },
        "id": "NKnjej6_p1ty",
        "outputId": "c488a0f0-c67e-43f8-a4fb-b3fb0705cbf2"
      },
      "execution_count": null,
      "outputs": [
        {
          "output_type": "stream",
          "name": "stdout",
          "text": [
            "{1: 2000, 2: 2000, 3: 2000, 4: 2000}\n"
          ]
        }
      ]
    },
    {
      "cell_type": "code",
      "source": [
        "#zip method\n",
        "\n",
        "d1 = [1,2,3,4,5]\n",
        "d2 =[10,20,30,40,50]\n",
        "\n",
        "d3 = dict(zip(d1,d2))\n",
        "print(d3)"
      ],
      "metadata": {
        "colab": {
          "base_uri": "https://localhost:8080/"
        },
        "id": "MKHR_hjlqZTs",
        "outputId": "ffcf0584-1fe0-4be7-cdd8-6c0f5fef196e"
      },
      "execution_count": null,
      "outputs": [
        {
          "output_type": "stream",
          "name": "stdout",
          "text": [
            "{1: 10, 2: 20, 3: 30, 4: 40, 5: 50}\n"
          ]
        }
      ]
    },
    {
      "cell_type": "code",
      "source": [
        "#Assignment\n",
        "\n",
        "s = \"I live in blr, blr is a garden city and beautiful city\"\n",
        "words = s.lower().replace(',', '').split()  # Convert to lowercase, remove commas, and split into words\n",
        "word_count = {}  # Initialize an empty dictionary\n",
        "print(words)\n",
        "for word in words:\n",
        "    if word in word_count:\n",
        "        word_count[word] += 1  # Increment count if word already exists\n",
        "    else:\n",
        "        word_count[word] = 1  # Add word to dictionary with count 1\n",
        "\n",
        "print(word_count)  # Print the dictionary"
      ],
      "metadata": {
        "colab": {
          "base_uri": "https://localhost:8080/"
        },
        "id": "UIpzaycAqwnq",
        "outputId": "2d265ce3-194a-492c-a513-ac4b19da826e"
      },
      "execution_count": null,
      "outputs": [
        {
          "output_type": "stream",
          "name": "stdout",
          "text": [
            "['i', 'live', 'in', 'blr', 'blr', 'is', 'a', 'garden', 'city', 'and', 'beautiful', 'city']\n",
            "{'i': 1, 'live': 1, 'in': 1, 'blr': 2, 'is': 1, 'a': 1, 'garden': 1, 'city': 2, 'and': 1, 'beautiful': 1}\n"
          ]
        }
      ]
    },
    {
      "cell_type": "code",
      "source": [
        "#project\n",
        "\n",
        "d = {}\n",
        "d[100] = {\"name\":\"Ram\",\"Major\":\"cse\"}\n",
        "d[101]= {\"name\":\"Rani\" ,\"Major\":\"cbc\"}\n",
        "print(d)\n",
        "print(d[100][\"name\"])\n",
        "print(d.get(101))\n",
        "print(d.items())\n",
        "print(d.keys())"
      ],
      "metadata": {
        "colab": {
          "base_uri": "https://localhost:8080/"
        },
        "id": "8mHHQOzyPJ8e",
        "outputId": "c8e8f878-b785-425a-e38d-b12b70e5f489"
      },
      "execution_count": 6,
      "outputs": [
        {
          "output_type": "stream",
          "name": "stdout",
          "text": [
            "{100: {'name': 'Ram', 'Major': 'cse'}, 101: {'name': 'Rani', 'Major': 'cbc'}}\n",
            "Ram\n",
            "{'name': 'Rani', 'Major': 'cbc'}\n",
            "dict_items([(100, {'name': 'Ram', 'Major': 'cse'}), (101, {'name': 'Rani', 'Major': 'cbc'})])\n",
            "dict_keys([100, 101])\n"
          ]
        }
      ]
    },
    {
      "cell_type": "code",
      "source": [
        "#Mini Project - Student Database\n",
        "\n",
        "def create_student_database():\n",
        "  #create empty dictonary\n",
        "    student_database = {}\n",
        "    return student_database\n",
        "\n",
        "def add_student(student_database):\n",
        "    # Add new student to database\n",
        "    usn = input(\"Enter USN number: \")\n",
        "    name = input(\"Enter student name : \")\n",
        "    major = input(\"Enter student department: \")\n",
        "    student_database[usn] ={\"name\": name , \"major\": major}\n",
        "    print(\"Student Added Successfully\")\n",
        "\n",
        "def find_student_info(student_database):\n",
        "    # Retrieve student information\n",
        "    student_id = input(\"Enter the student USN number: \")\n",
        "    student_info = student_database.get(student_id)\n",
        "    if student_info:\n",
        "        print (student_database.get(student_id))\n",
        "     # print(student_info)\n",
        "    else:\n",
        "      print(\"Enter correct usn no: \")\n",
        "\n",
        "def display_database(student_database):\n",
        "    # Display database\n",
        "    if student_database:\n",
        "      print(\"Student Database\")\n",
        "      print(student_database)\n",
        "    else:\n",
        "      print(\"Database is empty\")\n",
        "\n",
        "def remove_student(student_database):\n",
        "    # Remove student from database\n",
        "    student_id = input(\"Enter the student USN number: \")\n",
        "    if student_id in student_database:\n",
        "        del student_database[student_id]\n",
        "        print(\"Student removed successfully\")\n",
        "    else:\n",
        "        print(\"Student not found in the database\")\n",
        "\n",
        "\n",
        "\n",
        "#Main program\n",
        "\n",
        "student_database = create_student_database()\n",
        "\n",
        "while True:\n",
        "      print(\"Options\")\n",
        "      print(\"1. Add Student\")\n",
        "      print(\"2. Find Student Info\")\n",
        "      print(\"3. Display Database\")\n",
        "      print(\"4. Remove Student\")\n",
        "      print(\"5. Exit\")\n",
        "\n",
        "      choice = int(input(\"Enter your choice (1/2/3/4): \"))\n",
        "      if choice ==1:\n",
        "        add_student(student_database)\n",
        "      elif choice == 2:\n",
        "        find_student_info(student_database)\n",
        "      elif choice == 3:\n",
        "        display_database(student_database)\n",
        "      elif choice == 4:\n",
        "        remove_student(student_database)\n",
        "      elif choice == 5:\n",
        "        break\n",
        "      else:\n",
        "        print(\"Invalid choice. Please try again.\")\n"
      ],
      "metadata": {
        "colab": {
          "base_uri": "https://localhost:8080/",
          "height": 929
        },
        "id": "065nK1zUQ-hB",
        "outputId": "e14a4f4a-5230-4065-aefa-d2c9aaf05f22"
      },
      "execution_count": 15,
      "outputs": [
        {
          "output_type": "stream",
          "name": "stdout",
          "text": [
            "Options\n",
            "1. Add Student\n",
            "2. Find Student Info\n",
            "3. Display Database\n",
            "4. Exit\n",
            "Enter your choice (1/2/3/4): d\n",
            "Invalid choice. Please try again.\n",
            "Options\n",
            "1. Add Student\n",
            "2. Find Student Info\n",
            "3. Display Database\n",
            "4. Exit\n",
            "Enter your choice (1/2/3/4): 3\n",
            "Invalid choice. Please try again.\n",
            "Options\n",
            "1. Add Student\n",
            "2. Find Student Info\n",
            "3. Display Database\n",
            "4. Exit\n",
            "Enter your choice (1/2/3/4): 1\n",
            "Invalid choice. Please try again.\n",
            "Options\n",
            "1. Add Student\n",
            "2. Find Student Info\n",
            "3. Display Database\n",
            "4. Exit\n",
            "Enter your choice (1/2/3/4): 4\n",
            "Invalid choice. Please try again.\n",
            "Options\n",
            "1. Add Student\n",
            "2. Find Student Info\n",
            "3. Display Database\n",
            "4. Exit\n"
          ]
        },
        {
          "output_type": "error",
          "ename": "KeyboardInterrupt",
          "evalue": "Interrupted by user",
          "traceback": [
            "\u001b[0;31m---------------------------------------------------------------------------\u001b[0m",
            "\u001b[0;31mKeyboardInterrupt\u001b[0m                         Traceback (most recent call last)",
            "\u001b[0;32m<ipython-input-15-cd02f09d2c2e>\u001b[0m in \u001b[0;36m<cell line: 0>\u001b[0;34m()\u001b[0m\n\u001b[1;32m     45\u001b[0m       \u001b[0mprint\u001b[0m\u001b[0;34m(\u001b[0m\u001b[0;34m\"4. Exit\"\u001b[0m\u001b[0;34m)\u001b[0m\u001b[0;34m\u001b[0m\u001b[0;34m\u001b[0m\u001b[0m\n\u001b[1;32m     46\u001b[0m \u001b[0;34m\u001b[0m\u001b[0m\n\u001b[0;32m---> 47\u001b[0;31m       \u001b[0mchoice\u001b[0m \u001b[0;34m=\u001b[0m \u001b[0minput\u001b[0m\u001b[0;34m(\u001b[0m\u001b[0;34m\"Enter your choice (1/2/3/4): \"\u001b[0m\u001b[0;34m)\u001b[0m\u001b[0;34m\u001b[0m\u001b[0;34m\u001b[0m\u001b[0m\n\u001b[0m\u001b[1;32m     48\u001b[0m       \u001b[0;32mif\u001b[0m \u001b[0mchoice\u001b[0m \u001b[0;34m==\u001b[0m\u001b[0;36m1\u001b[0m\u001b[0;34m:\u001b[0m\u001b[0;34m\u001b[0m\u001b[0;34m\u001b[0m\u001b[0m\n\u001b[1;32m     49\u001b[0m         \u001b[0madd_student\u001b[0m\u001b[0;34m(\u001b[0m\u001b[0mstudent_database\u001b[0m\u001b[0;34m)\u001b[0m\u001b[0;34m\u001b[0m\u001b[0;34m\u001b[0m\u001b[0m\n",
            "\u001b[0;32m/usr/local/lib/python3.11/dist-packages/ipykernel/kernelbase.py\u001b[0m in \u001b[0;36mraw_input\u001b[0;34m(self, prompt)\u001b[0m\n\u001b[1;32m   1175\u001b[0m                 \u001b[0;34m\"raw_input was called, but this frontend does not support input requests.\"\u001b[0m\u001b[0;34m\u001b[0m\u001b[0;34m\u001b[0m\u001b[0m\n\u001b[1;32m   1176\u001b[0m             )\n\u001b[0;32m-> 1177\u001b[0;31m         return self._input_request(\n\u001b[0m\u001b[1;32m   1178\u001b[0m             \u001b[0mstr\u001b[0m\u001b[0;34m(\u001b[0m\u001b[0mprompt\u001b[0m\u001b[0;34m)\u001b[0m\u001b[0;34m,\u001b[0m\u001b[0;34m\u001b[0m\u001b[0;34m\u001b[0m\u001b[0m\n\u001b[1;32m   1179\u001b[0m             \u001b[0mself\u001b[0m\u001b[0;34m.\u001b[0m\u001b[0m_parent_ident\u001b[0m\u001b[0;34m[\u001b[0m\u001b[0;34m\"shell\"\u001b[0m\u001b[0;34m]\u001b[0m\u001b[0;34m,\u001b[0m\u001b[0;34m\u001b[0m\u001b[0;34m\u001b[0m\u001b[0m\n",
            "\u001b[0;32m/usr/local/lib/python3.11/dist-packages/ipykernel/kernelbase.py\u001b[0m in \u001b[0;36m_input_request\u001b[0;34m(self, prompt, ident, parent, password)\u001b[0m\n\u001b[1;32m   1217\u001b[0m             \u001b[0;32mexcept\u001b[0m \u001b[0mKeyboardInterrupt\u001b[0m\u001b[0;34m:\u001b[0m\u001b[0;34m\u001b[0m\u001b[0;34m\u001b[0m\u001b[0m\n\u001b[1;32m   1218\u001b[0m                 \u001b[0;31m# re-raise KeyboardInterrupt, to truncate traceback\u001b[0m\u001b[0;34m\u001b[0m\u001b[0;34m\u001b[0m\u001b[0m\n\u001b[0;32m-> 1219\u001b[0;31m                 \u001b[0;32mraise\u001b[0m \u001b[0mKeyboardInterrupt\u001b[0m\u001b[0;34m(\u001b[0m\u001b[0;34m\"Interrupted by user\"\u001b[0m\u001b[0;34m)\u001b[0m \u001b[0;32mfrom\u001b[0m \u001b[0;32mNone\u001b[0m\u001b[0;34m\u001b[0m\u001b[0;34m\u001b[0m\u001b[0m\n\u001b[0m\u001b[1;32m   1220\u001b[0m             \u001b[0;32mexcept\u001b[0m \u001b[0mException\u001b[0m\u001b[0;34m:\u001b[0m\u001b[0;34m\u001b[0m\u001b[0;34m\u001b[0m\u001b[0m\n\u001b[1;32m   1221\u001b[0m                 \u001b[0mself\u001b[0m\u001b[0;34m.\u001b[0m\u001b[0mlog\u001b[0m\u001b[0;34m.\u001b[0m\u001b[0mwarning\u001b[0m\u001b[0;34m(\u001b[0m\u001b[0;34m\"Invalid Message:\"\u001b[0m\u001b[0;34m,\u001b[0m \u001b[0mexc_info\u001b[0m\u001b[0;34m=\u001b[0m\u001b[0;32mTrue\u001b[0m\u001b[0;34m)\u001b[0m\u001b[0;34m\u001b[0m\u001b[0;34m\u001b[0m\u001b[0m\n",
            "\u001b[0;31mKeyboardInterrupt\u001b[0m: Interrupted by user"
          ]
        }
      ]
    }
  ]
}